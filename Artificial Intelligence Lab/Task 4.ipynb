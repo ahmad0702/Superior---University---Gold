{
 "cells": [
  {
   "cell_type": "markdown",
   "metadata": {},
   "source": [
    "# LUHN Algorithum For Card Check :"
   ],
   "source": [
    "def card_check(card_number):\n",
    "    card_number = str(card_number)\n",
    "    reversed_card_number = card_number[::-1]\n",
    "    sum = 0\n",
    "    for i in range(len(reversed_card_number)):\n",
    "        digit = int(reversed_card_number[i])\n",
    "        if i % 2 == 0:\n",
    "            sum += digit\n",
    "        else:\n",
    "            digit *= 2\n",
    "            if digit > 9:\n",
    "                digit -= 9\n",
    "            sum += digit\n",
    "    return sum % 10 == 0\n",
    "card_number = \"4532015112830366\"\n",
    "if card_check(card_number):\n",
    "    print(f\"{card_number} is valid\")\n",
    "else:\n",
    "    print(f\"{card_number} is invalid\")"
   ]
  },
  {
   "cell_type": "markdown",
   "metadata": {},
   "source": [
    "# Remove Punctuations from User Input String :"
   ]
  },
  {
   "cell_type": "code",
   "execution_count": 10,
   "metadata": {},
   "outputs": [
    {
     "name": "stdout",
     "output_type": "stream",
     "text": [
      "Original Sentence:  Please ! Give me a pen , paper and glass .\n",
      "Sentence without punctuations:  Please  Give me a pen  paper and glass \n"
     ]
    }
   ],
   "source": [
    "def remove_punctuations(input_string):\n",
    "    punctuations = r\"!\\\"#$%&'()*+,-./:;<=>?@[\\]^_`{|}~\"\n",
    "    result = \"\"\n",
    "    for char in input_string:\n",
    "        if char not in punctuations:\n",
    "            result += char\n",
    "    return result\n",
    "sentence = input(\"Enter a sentence: \")\n",
    "print(\"Original Sentence: \", sentence)\n",
    "print(\"Sentence without punctuations: \", remove_punctuations(sentence))"
   ]
  },
  {
   "cell_type": "markdown",
   "metadata": {},
   "source": [
    "# Sort Text in Alphabetical Order :"
   ]
  },
  {
   "cell_type": "code",
   "execution_count": 9,
   "metadata": {},
   "outputs": [
    {
     "name": "stdout",
     "output_type": "stream",
     "text": [
      "Original Text:  My Name Is Ahmad\n",
      "Text in Alphabetical Order:  My Is Ahmad My Is My\n"
     ]
    }
   ],
   "source": [
    "def alphabetical_order(text):\n",
    "    words = text.split()\n",
    "    result = []\n",
    "    while len(words) > 0:\n",
    "        min_word = words[0]\n",
    "        min_index = 0\n",
    "        for i in range(1, len(words)):\n",
    "            if words[i].lower() < min_word.lower():\n",
    "                min_word = words[i]\n",
    "                min_index = i\n",
    "            result.append(min_word)\n",
    "        words.pop(min_index)\n",
    "    return ' '.join(result)\n",
    "text = input(\"Enter a text: \")\n",
    "print(\"Original Text: \", text)\n",
    "print(\"Text in Alphabetical Order: \", alphabetical_order(text))"
   ]
  }
 ],
 "metadata": {
  "kernelspec": {
   "display_name": "Python 3",
   "language": "python",
   "name": "python3"
  },
  "language_info": {
   "codemirror_mode": {
    "name": "ipython",
    "version": 3
   },
   "file_extension": ".py",
   "mimetype": "text/x-python",
   "name": "python",
   "nbconvert_exporter": "python",
   "pygments_lexer": "ipython3",
   "version": "3.12.5"
  }
 },
 "nbformat": 4,
 "nbformat_minor": 2
}
