{
 "cells": [
  {
   "cell_type": "markdown",
   "metadata": {},
   "source": [
    "# DFS With Stack & Node :"
   ]
  },
  {
   "cell_type": "code",
   "execution_count": 2,
   "metadata": {},
   "outputs": [
    {
     "name": "stdout",
     "output_type": "stream",
     "text": [
      "A\n",
      "C\n",
      "B\n",
      "D\n"
     ]
    }
   ],
   "source": [
    "class Node:\n",
    "    def __init__(self, value):\n",
    "        self.value = value\n",
    "        self.neighbors = []\n",
    "    def dfs(root):\n",
    "        visited = []\n",
    "        stack = [root]\n",
    "        while stack:\n",
    "            node = stack.pop()\n",
    "            if node not in visited:\n",
    "                visited.append(node)\n",
    "                print(node.value)\n",
    "                stack.extend(neighbor for neighbor in node.neighbors if neighbor not in visited)\n",
    "\n",
    "node_a = Node(\"A\")\n",
    "node_b = Node(\"B\")\n",
    "node_c = Node(\"C\")\n",
    "node_d = Node(\"D\")\n",
    "node_a.neighbors = [node_b, node_c]\n",
    "node_b.neighbors = [node_d]\n",
    "dfs(node_a)"
   ]
  },
  {
   "cell_type": "markdown",
   "metadata": {},
   "source": [
    "# Research About "
   ]
  },
  {
   "cell_type": "markdown",
   "metadata": {},
   "source": [
    "### \"Inorder, Preorder, Postorder\" And Implement In DFS :"
   ]
  },
  {
   "cell_type": "code",
   "execution_count": 6,
   "metadata": {},
   "outputs": [
    {
     "name": "stdout",
     "output_type": "stream",
     "text": [
      "Inorder:\n",
      "4\n",
      "2\n",
      "5\n",
      "1\n",
      "3\n",
      "\n",
      "Preorder:\n",
      "1\n",
      "2\n",
      "4\n",
      "5\n",
      "3\n",
      "\n",
      "Postorder:\n",
      "4\n",
      "5\n",
      "2\n",
      "3\n",
      "1\n"
     ]
    }
   ],
   "source": [
    "class Node:\n",
    "    def __init__(self, value):\n",
    "        self.value = value\n",
    "        self.left = None\n",
    "        self.right = None\n",
    "    def inorder(node):\n",
    "        if node:\n",
    "            inorder(node.left)\n",
    "            print(node.value)\n",
    "            inorder(node.right)\n",
    "    def preorder(node):\n",
    "        if node:\n",
    "            print(node.value)\n",
    "            preorder(node.left)\n",
    "            preorder(node.right)\n",
    "    def postorder(node):\n",
    "        if node:\n",
    "            postorder(node.left)\n",
    "            postorder(node.right)\n",
    "            print(node.value)\n",
    "\n",
    "root = Node(1)\n",
    "root.left = Node(2)\n",
    "root.right = Node(3)\n",
    "root.left.left = Node(4)\n",
    "root.left.right = Node(5)\n",
    "\n",
    "print(\"Inorder:\")\n",
    "inorder(root)\n",
    "print(\"\\nPreorder:\")\n",
    "preorder(root)\n",
    "print(\"\\nPostorder:\")\n",
    "postorder(root)"
   ]
  }
 ],
 "metadata": {
  "kernelspec": {
   "display_name": "Python 3",
   "language": "python",
   "name": "python3"
  },
  "language_info": {
   "codemirror_mode": {
    "name": "ipython",
    "version": 3
   },
   "file_extension": ".py",
   "mimetype": "text/x-python",
   "name": "python",
   "nbconvert_exporter": "python",
   "pygments_lexer": "ipython3",
   "version": "3.12.5"
  }
 },
 "nbformat": 4,
 "nbformat_minor": 2
}
