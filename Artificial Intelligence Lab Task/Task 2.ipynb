{
 "cells": [
  {
   "cell_type": "markdown",
   "id": "e4f851f5-a6cd-4223-896a-31cfb8b8fd77",
   "metadata": {},
   "source": [
    "# Fizz Buzz Game :"
   ]
  },
  {
   "cell_type": "code",
   "execution_count": 1,
   "id": "d487538f-9097-461b-abda-3cb81e511f96",
   "metadata": {},
   "outputs": [
    {
     "name": "stdout",
     "output_type": "stream",
     "text": [
      "Fizz\n",
      "Buzz\n",
      "FizzBuzz\n",
      "Fizz\n",
      "FizzBuzz\n",
      "Fizz\n",
      "Game Over !\n",
      "Have a nice day Dear !\n"
     ]
    }
   ],
   "source": [
    "flag = True\n",
    "while flag:\n",
    "    a = int(input('Enter a number:'))\n",
    "    if a %3 == 0 and a %5 == 0:\n",
    "        print('FizzBuzz')\n",
    "    if a %3 == 0:\n",
    "        print('Fizz')\n",
    "    elif a %5 == 0:\n",
    "        print('Buzz')\n",
    "    else:\n",
    "        print('Game Over !')\n",
    "        choice = input('Do You Want To Play Again ? Y/N')\n",
    "        if choice.lower()!='y' and choice.lower()!='n':\n",
    "            raise ValueError('Must Use Y/N:')\n",
    "        elif choice.lower() == 'n':\n",
    "            flag = False\n",
    "            print('Have a nice day Dear !')\n",
    "        else:\n",
    "            continue"
   ]
  },
  {
   "cell_type": "markdown",
   "id": "5c1cf685-bf7c-4efa-b3de-6063cff3a0db",
   "metadata": {},
   "source": [
    "# Movie Budget Finder :"
   ]
  },
  {
   "cell_type": "code",
   "execution_count": 1,
   "id": "6f18565d-3f77-4e87-8390-be91af70d8d4",
   "metadata": {},
   "outputs": [
    {
     "name": "stdout",
     "output_type": "stream",
     "text": [
      "Average Price is : Rs167,312,500.0\n",
      "4 Movies Are Above The Average.\n",
      "Pirates of Caribbean: Rs379,000,000 (+Rs211,687,500.0)\n",
      "Avengers: Age of Ultron: Rs365,000,000 (+Rs197,687,500.0)\n",
      "Avengers: Endgame: Rs356,000,000 (+Rs188,687,500.0)\n",
      "Incredibles 2: Rs200,000,000 (+Rs32,687,500.0)\n"
     ]
    }
   ],
   "source": [
    "def main():\n",
    "    movies = [\n",
    "        (\"Eternal Sunshine\", 20000000),\n",
    "        (\"Memento\", 9000000),\n",
    "        (\"Requiem for a Dream\", 4500000),\n",
    "        (\"Pirates of Caribbean\", 379000000),\n",
    "        (\"Avengers: Age of Ultron\", 365000000),\n",
    "        (\"Avengers: Endgame\", 356000000),\n",
    "        (\"Incredibles 2\", 200000000)\n",
    "    ]\n",
    "    add = input(\"Do You Want To Add Movies? (y/n): \")\n",
    "    if add.lower() == 'y':\n",
    "        movies_num = int(input(\"How Many Movies Do You Want To Add?: \"))\n",
    "        for i in range(movies_num):\n",
    "            name = input(\"Write The Name Of The Movie That You Want To Add: \")\n",
    "            price = int(input(\"Write The Price Of The Movie That You Add: \"))\n",
    "            movies.append((name, price))\n",
    "    avg_price = sum(price for i, price in movies) / len(movies)\n",
    "    high_price = [(name, price) for name, price in movies if price > avg_price]\n",
    "    print(f\"Average Price is : Rs{avg_price:,}\")\n",
    "    print(f\"{len(high_price)} Movies Are Above The Average.\")\n",
    "    for name, price in high_price:\n",
    "        print(f\"{name}: Rs{price:,} (+Rs{price - avg_price:,})\")\n",
    "main()"
   ]
  }
 ],
 "metadata": {
  "kernelspec": {
   "display_name": "Python 3 (ipykernel)",
   "language": "python",
   "name": "python3"
  },
  "language_info": {
   "codemirror_mode": {
    "name": "ipython",
    "version": 3
   },
   "file_extension": ".py",
   "mimetype": "text/x-python",
   "name": "python",
   "nbconvert_exporter": "python",
   "pygments_lexer": "ipython3",
   "version": "3.12.5"
  }
 },
 "nbformat": 4,
 "nbformat_minor": 5
}
