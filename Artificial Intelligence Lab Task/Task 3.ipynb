{
 "cells": [
  {
   "cell_type": "markdown",
   "metadata": {},
   "source": [
    "# Simple Reflex Agent :"
   ]
  },
  {
   "cell_type": "code",
   "execution_count": 1,
   "metadata": {},
   "outputs": [
    {
     "name": "stdout",
     "output_type": "stream",
     "text": [
      "Living Room: Current temperature => 18°C. Turn on heater.\n",
      "Bed Room: Current temperature => 22°C. Turn off heater.\n",
      "Kitchen: Current temperature => 20°C. Turn on heater.\n",
      "Drawing Room: Current temperature => 25°C. Turn off heater.\n"
     ]
    }
   ],
   "source": [
    "class SimpleReflexAgent:\n",
    "    def __init__(self, desired_temperature):\n",
    "        self.desired_temperature = desired_temperature \n",
    "    def perceive(self, current_temperature):\n",
    "        return current_temperature\n",
    "    def act(self, current_temperature):\n",
    "        if current_temperature < self.desired_temperature:\n",
    "            action = \"Turn on heater\"\n",
    "        else:\n",
    "            action = \"Turn off heater\"\n",
    "        return action\n",
    "rooms = {\n",
    "    \"Living Room\": 18,\n",
    "    \"Bed Room\": 22,\n",
    "    \"Kitchen\": 20,\n",
    "    \"Drawing Room\": 25\n",
    "}\n",
    "desired_temperature = 22\n",
    "agent = SimpleReflexAgent(desired_temperature)\n",
    "for room, temperature in rooms.items():\n",
    "    action = agent.act(temperature)\n",
    "    print(f\"{room}: Current temperature => {temperature}°C. {action}.\")"
   ]
  },
  {
   "cell_type": "markdown",
   "metadata": {},
   "source": [
    "# Model Reflex Agent :"
   ]
  },
  {
   "cell_type": "code",
   "execution_count": 2,
   "metadata": {},
   "outputs": [
    {
     "name": "stdout",
     "output_type": "stream",
     "text": [
      "Living Room: Current temperature => 18°C. Turn on heater.\n",
      "Bed Room: Current temperature => 22°C. Turn off heater.\n",
      "Kitchen: Current temperature => 20°C. No action needed..\n",
      "Drawing Room: Current temperature => 25°C. Turn off heater.\n"
     ]
    }
   ],
   "source": [
    "class ModelBasedReflexAgent:\n",
    "    def __init__(self, desired_temperature):\n",
    "        self.desired_temperature = desired_temperature\n",
    "        self.temperature_state = {}\n",
    "    def perceive(self, room, current_temperature):\n",
    "        self.temperature_state[room] = current_temperature\n",
    "    def act(self, room):\n",
    "        current_temperature = self.temperature_state.get(room)\n",
    "        if current_temperature is None:\n",
    "            return \"No temperature reading available.\"\n",
    "        elif current_temperature < self.desired_temperature:\n",
    "            return \"Turn on heater\"\n",
    "        elif current_temperature == self.desired_temperature:\n",
    "            return \"No action needed.\"\n",
    "        else:\n",
    "            return \"Turn off heater\"\n",
    "rooms = {\n",
    "    \"Living Room\": 18,\n",
    "    \"Bed Room\": 22,\n",
    "    \"Kitchen\": 20,\n",
    "    \"Drawing Room\": 25\n",
    "}\n",
    "desired_temperature = 20\n",
    "agent = ModelBasedReflexAgent(desired_temperature)\n",
    "for room, temperature in rooms.items():\n",
    "    agent.perceive(room, temperature)\n",
    "    action = agent.act(room)\n",
    "    print(f\"{room}: Current temperature => {temperature}°C. {action}.\")"
   ]
  }
 ],
 "metadata": {
  "kernelspec": {
   "display_name": "Python 3",
   "language": "python",
   "name": "python3"
  },
  "language_info": {
   "codemirror_mode": {
    "name": "ipython",
    "version": 3
   },
   "file_extension": ".py",
   "mimetype": "text/x-python",
   "name": "python",
   "nbconvert_exporter": "python",
   "pygments_lexer": "ipython3",
   "version": "3.12.5"
  }
 },
 "nbformat": 4,
 "nbformat_minor": 2
}
