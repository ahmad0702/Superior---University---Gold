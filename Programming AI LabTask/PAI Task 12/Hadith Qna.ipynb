{
  "nbformat": 4,
  "nbformat_minor": 0,
  "metadata": {
    "colab": {
      "provenance": []
    },
    "kernelspec": {
      "name": "python3",
      "display_name": "Python 3"
    },
    "language_info": {
      "name": "python"
    }
  },
  "cells": [
    {
      "cell_type": "code",
      "source": [
        "!pip install faiss-cpu"
      ],
      "metadata": {
        "colab": {
          "base_uri": "https://localhost:8080/"
        },
        "id": "xhAG8QFPpMda",
        "outputId": "dab0f5aa-dd70-4704-95a8-64f4b0e44845"
      },
      "execution_count": 5,
      "outputs": [
        {
          "output_type": "stream",
          "name": "stdout",
          "text": [
            "Collecting faiss-cpu\n",
            "  Downloading faiss_cpu-1.11.0-cp311-cp311-manylinux_2_28_x86_64.whl.metadata (4.8 kB)\n",
            "Requirement already satisfied: numpy<3.0,>=1.25.0 in /usr/local/lib/python3.11/dist-packages (from faiss-cpu) (2.0.2)\n",
            "Requirement already satisfied: packaging in /usr/local/lib/python3.11/dist-packages (from faiss-cpu) (24.2)\n",
            "Downloading faiss_cpu-1.11.0-cp311-cp311-manylinux_2_28_x86_64.whl (31.3 MB)\n",
            "\u001b[2K   \u001b[90m━━━━━━━━━━━━━━━━━━━━━━━━━━━━━━━━━━━━━━━━\u001b[0m \u001b[32m31.3/31.3 MB\u001b[0m \u001b[31m43.4 MB/s\u001b[0m eta \u001b[36m0:00:00\u001b[0m\n",
            "\u001b[?25hInstalling collected packages: faiss-cpu\n",
            "Successfully installed faiss-cpu-1.11.0\n"
          ]
        }
      ]
    },
    {
      "cell_type": "code",
      "execution_count": 41,
      "metadata": {
        "id": "AZj2NYR7o9Ct"
      },
      "outputs": [],
      "source": [
        "import nltk\n",
        "from nltk.chat.util import Chat, reflections\n",
        "import pandas as pd\n",
        "import glob\n",
        "from sentence_transformers import SentenceTransformer\n",
        "import numpy as np\n",
        "import faiss\n",
        "import re"
      ]
    },
    {
      "cell_type": "code",
      "source": [
        "pairs = [\n",
        "    [r\"(?i).*hello.*|.*hi.*|.*hey.*\",\n",
        "     [\"Hello! How can I assist you with our software development services?\",\n",
        "      \"Hi there! Do you need help with our products or services?\",\n",
        "      \"Hey! Welcome to SpidoTech Software House, how can I help you today?\"]],\n",
        "\n",
        "    [r\"(?i).*services.*offer.*|.*software development.*|.*what do you provide.*\",\n",
        "     [\"We offer custom software development, web and mobile app development, UI/UX design, cloud solutions, and enterprise software solutions.\",\n",
        "      \"We specialize in software development, mobile applications, website creation, cloud computing, and more. Let us know how we can help.\",\n",
        "      \"SpidoTech provides services like custom software development, mobile app solutions, IT consulting, and cloud services.\"]],\n",
        "\n",
        "    [r\"(?i).*pricing.*|.*cost.*|.*charges.*\",\n",
        "     [\"Our pricing depends on the complexity and scope of the project. Feel free to schedule a consultation for a personalized quote.\",\n",
        "      \"Prices vary based on project size. Please contact our sales team for a detailed pricing breakdown.\",\n",
        "      \"We offer competitive pricing tailored to your project needs. Reach out for a quote based on your requirements.\"]],\n",
        "\n",
        "    [r\"(?i).*support.*|.*bug.*|.*issue.*|.*help with software.*\",\n",
        "     [\"We're here to help! Please provide more details about the issue you're facing, and our support team will assist you.\",\n",
        "      \"I’m sorry you’re facing an issue. Could you describe the problem in detail so we can assist you better?\",\n",
        "      \"To resolve your issue, kindly share the software details and the problem you're encountering. Our team will look into it.\"]],\n",
        "\n",
        "    [r\"(?i).*project timeline.*|.*how long.*|.*delivery time.*\",\n",
        "     [\"The project timeline depends on its complexity. A typical software development project takes between 2 weeks to 6 months.\",\n",
        "      \"We discuss the timeline with each client based on project scope. Please share more details for a more accurate estimate.\",\n",
        "      \"Timelines vary depending on project complexity. A basic project may take a few weeks, while larger projects may take a few months.\"]],\n",
        "\n",
        "    [r\"(?i).*job opportunities.*|.*careers.*|.*working at SpidoTech.*\",\n",
        "     [\"We are always looking for talented developers, designers, and project managers. Visit our careers page for current job openings.\",\n",
        "      \"SpidoTech offers great career opportunities. Check out our job listings on our website or send us your resume.\",\n",
        "      \"Join our growing team! Visit our career page to explore available roles and submit your application.\"]],\n",
        "\n",
        "    [r\"(?i).*portfolio.*|.*our work.*|.*examples of projects.*\",\n",
        "     [\"You can explore our portfolio on our website to see examples of our past work.\",\n",
        "      \"Visit our portfolio page to see the projects we've worked on. We have experience in a wide range of industries.\",\n",
        "      \"We showcase our previous projects on our website. Check out our portfolio for examples of our successful projects.\"]],\n",
        "\n",
        "    [r\"(?i).*payment.*|.*invoice.*|.*billing.*\",\n",
        "     [\"For payment-related queries, please contact our billing department at billing@spidotech.com.\",\n",
        "      \"You can process payments via bank transfer, credit card, or PayPal. Contact us for further details.\",\n",
        "      \"For any invoice or billing issues, feel free to reach out to our finance team at finance@spidotech.com.\"]],\n",
        "\n",
        "    [r\"(?i).*collaborate.*|.*partnership.*|.*work together.*\",\n",
        "     [\"We are open to collaborations. If you're interested, please reach out to partnerships@spidotech.com to discuss potential opportunities.\",\n",
        "      \"If you're interested in a partnership, please email our partnership team at partnerships@spidotech.com.\",\n",
        "      \"We love collaborating with like-minded businesses. Contact us for partnership opportunities at partnerships@spidotech.com.\"]],\n",
        "\n",
        "    [r\"(?i).*contact.*|.*email.*|.*phone number.*\",\n",
        "     [\"You can reach us at support@spidotech.com or call us at +123-456-7890.\",\n",
        "      \"For inquiries, email us at info@spidotech.com, or give us a call at +123-456-7890.\",\n",
        "      \"Feel free to contact us via email at contact@spidotech.com or call our support team at +123-456-7890.\"]],\n",
        "\n",
        "    [r\"(?i).*bye.*|.*goodbye.*|.*see you later.*\",\n",
        "     [\"Goodbye! Let us know if you need assistance in the future.\",\n",
        "      \"See you later! Don't hesitate to reach out if you need help.\",\n",
        "      \"Alright, take care! Feel free to contact us whenever you have questions.\"]],\n",
        "    [r'(?i).*hadith.*',['Write your Querey here.']]\n",
        "]\n",
        "\n",
        "chatbot = Chat(pairs, reflections)\n",
        "\n",
        "def chat():\n",
        "    print(\"Welcome to SpidoTech Software House. How can I assist you today?\")\n",
        "    print(\"Type 'exit' to end the chat.\\n\")\n",
        "    while True:\n",
        "        user_input = input(\"You: \")\n",
        "        response = chatbot.respond(user_input)\n",
        "        print(f\"Bot: {response}\")\n",
        "        if response in [\"Spido: Thank you for reaching out! Have a nice day!\"]:\n",
        "          break\n",
        "        if response in [\"Ask anything: \"]:\n",
        "          u_input = input('You:')\n",
        "          retrieve_similar_hadiths(u_input,model,index,hadith_df_en)\n",
        "        if not response:\n",
        "            response = \"I'm sorry, I don't know how to respond to that.\"\n"
      ],
      "metadata": {
        "id": "zDqhUzGepABw"
      },
      "execution_count": 51,
      "outputs": []
    },
    {
      "cell_type": "code",
      "source": [
        "def retrieve_similar_hadiths(query, model, index, hadith_df, k=5):\n",
        "    # Preprocess and embed the query\n",
        "    query_embedding = model.encode([clean_text(query)])\n",
        "\n",
        "    # Search the FAISS index for similar Hadiths\n",
        "    distances, indices = index.search(query_embedding, k)\n",
        "\n",
        "    # Retrieve and print the top-k Hadiths\n",
        "    for i in range(k):\n",
        "        print(f\"Hadith {i+1}:\")\n",
        "        print(hadith_df['Hadith'].iloc[indices[0][i]])\n",
        "        print(f\"Distance: {distances[0][i]}\\n\")"
      ],
      "metadata": {
        "id": "7IO438ttpt3p"
      },
      "execution_count": 52,
      "outputs": []
    },
    {
      "cell_type": "code",
      "source": [
        "index = faiss.read_index('/content/hadith_faiss_en.index')"
      ],
      "metadata": {
        "id": "EJlQZD14p98Q"
      },
      "execution_count": 53,
      "outputs": []
    },
    {
      "cell_type": "code",
      "source": [
        "hadith_df_en = pd.read_csv('/content/cleaned_hadith_data_english.csv')"
      ],
      "metadata": {
        "id": "BqAl99Wnp_yw"
      },
      "execution_count": 54,
      "outputs": []
    },
    {
      "cell_type": "code",
      "source": [
        "model = SentenceTransformer('paraphrase-MiniLM-L6-v2')"
      ],
      "metadata": {
        "id": "TSBnjE1lrVTM"
      },
      "execution_count": 55,
      "outputs": []
    },
    {
      "cell_type": "code",
      "source": [
        "def clean_text(text):\n",
        "    # removing special characters, digits, etc.\n",
        "    if isinstance(text, str):\n",
        "        text = re.sub(r'[^A-Za-z\\s]', '', text)\n",
        "        text = text.lower()\n",
        "    else:\n",
        "        text = ''\n",
        "    return text"
      ],
      "metadata": {
        "id": "7rn2gDg3tFsp"
      },
      "execution_count": 56,
      "outputs": []
    },
    {
      "cell_type": "code",
      "source": [
        "chat()"
      ],
      "metadata": {
        "id": "7NvsIeZXvOb1"
      },
      "execution_count": null,
      "outputs": []
    }
  ]
}