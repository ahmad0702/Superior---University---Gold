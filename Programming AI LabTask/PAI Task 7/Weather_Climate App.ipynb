{
 "cells": [
  {
   "cell_type": "markdown",
   "metadata": {},
   "source": [
    "# **Weather / Climate App**"
   ]
  },
  {
   "cell_type": "markdown",
   "metadata": {},
   "source": [
    "# **Import Libraries**"
   ]
  },
  {
   "cell_type": "code",
   "execution_count": null,
   "metadata": {},
   "outputs": [],
   "source": [
    "from flask import Flask, render_template, request\n",
    "import requests"
   ]
  },
  {
   "cell_type": "markdown",
   "metadata": {},
   "source": [
    "# **Insert API Key**"
   ]
  },
  {
   "cell_type": "code",
   "execution_count": null,
   "metadata": {},
   "outputs": [],
   "source": [
    "app = Flask(__name__, template_folder=\"temeplate\")\n",
    "\n",
    "API_KEY = \"ec277f3ce32236ba3c997164e841c3c5\"  \n",
    "BASE_URL = \"https://api.openweathermap.org/data/2.5/weather\"\n",
    "\n",
    "@app.route(\"/\", methods=[\"GET\", \"POST\"])\n",
    "def index():\n",
    "    weather_data = None\n",
    "\n",
    "    if request.method == \"POST\":\n",
    "        city = request.form[\"city\"]\n",
    "        params = {\"q\": city, \"appid\": API_KEY, \"units\": \"metric\"}\n",
    "\n",
    "        response = requests.get(BASE_URL, params=params)\n",
    "        if response.status_code == 200:\n",
    "            data = response.json()\n",
    "            weather_data = {\n",
    "                \"city\": data[\"name\"],\n",
    "                \"temperature\": data[\"main\"][\"temp\"],\n",
    "                \"description\": data[\"weather\"][0][\"description\"].title(),\n",
    "                \"icon\": f\"http://openweathermap.org/img/wn/{data['weather'][0]['icon']}.png\"\n",
    "            }\n",
    "        else:\n",
    "            weather_data = {\"error\": \"City not found!\"}\n",
    "\n",
    "    return render_template(\"index.html\", weather=weather_data)\n",
    "\n",
    "if __name__ == \"__main__\":\n",
    "    app.run(debug=True)"
   ]
  }
 ],
 "metadata": {
  "kernelspec": {
   "display_name": "Python 3",
   "language": "python",
   "name": "python3"
  },
  "language_info": {
   "codemirror_mode": {
    "name": "ipython",
    "version": 3
   },
   "file_extension": ".py",
   "mimetype": "text/x-python",
   "name": "python",
   "nbconvert_exporter": "python",
   "pygments_lexer": "ipython3",
   "version": "3.12.9"
  }
 },
 "nbformat": 4,
 "nbformat_minor": 2
}
