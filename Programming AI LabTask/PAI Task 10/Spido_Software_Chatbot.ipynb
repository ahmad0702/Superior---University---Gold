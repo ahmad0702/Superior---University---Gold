{
 "cells": [
  {
   "cell_type": "code",
   "execution_count": 1,
   "metadata": {},
   "outputs": [],
   "source": [
    "import nltk\n",
    "from nltk.chat.util import Chat, reflections\n",
    "from nltk.sentiment import SentimentIntensityAnalyzer"
   ]
  },
  {
   "cell_type": "code",
   "execution_count": 2,
   "metadata": {},
   "outputs": [
    {
     "name": "stderr",
     "output_type": "stream",
     "text": [
      "[nltk_data] Downloading package vader_lexicon to\n",
      "[nltk_data]     C:\\Users\\Ahmad\\AppData\\Roaming\\nltk_data...\n"
     ]
    },
    {
     "data": {
      "text/plain": [
       "True"
      ]
     },
     "execution_count": 2,
     "metadata": {},
     "output_type": "execute_result"
    }
   ],
   "source": [
    "nltk.download('vader_lexicon')"
   ]
  },
  {
   "cell_type": "code",
   "execution_count": 5,
   "metadata": {},
   "outputs": [],
   "source": [
    "questions = [\n",
    "    [r\"(?i).*hello.*|.*hi.*|.*hey.*\",\n",
    "     [\"Hello! How can I assist you with our software development services?\",\n",
    "      \"Hi there! Do you need help with our products or services?\",\n",
    "      \"Hey! Welcome to SpidoTech Software House, how can I help you today?\"]],\n",
    "\n",
    "    [r\"(?i).*services.*offer.*|.*software development.*|.*what do you provide.*\",\n",
    "     [\"We offer custom software development, web and mobile app development, UI/UX design, cloud solutions, and enterprise software solutions.\",\n",
    "      \"We specialize in software development, mobile applications, website creation, cloud computing, and more. Let us know how we can help.\",\n",
    "      \"SpidoTech provides services like custom software development, mobile app solutions, IT consulting, and cloud services.\"]],\n",
    "\n",
    "    [r\"(?i).*pricing.*|.*cost.*|.*charges.*\",\n",
    "     [\"Our pricing depends on the complexity and scope of the project. Feel free to schedule a consultation for a personalized quote.\",\n",
    "      \"Prices vary based on project size. Please contact our sales team for a detailed pricing breakdown.\",\n",
    "      \"We offer competitive pricing tailored to your project needs. Reach out for a quote based on your requirements.\"]],\n",
    "\n",
    "    [r\"(?i).*support.*|.*bug.*|.*issue.*|.*help with software.*\",\n",
    "     [\"We're here to help! Please provide more details about the issue you're facing, and our support team will assist you.\",\n",
    "      \"I’m sorry you’re facing an issue. Could you describe the problem in detail so we can assist you better?\",\n",
    "      \"To resolve your issue, kindly share the software details and the problem you're encountering. Our team will look into it.\"]],\n",
    "\n",
    "    [r\"(?i).*project timeline.*|.*how long.*|.*delivery time.*\",\n",
    "     [\"The project timeline depends on its complexity. A typical software development project takes between 2 weeks to 6 months.\",\n",
    "      \"We discuss the timeline with each client based on project scope. Please share more details for a more accurate estimate.\",\n",
    "      \"Timelines vary depending on project complexity. A basic project may take a few weeks, while larger projects may take a few months.\"]],\n",
    "\n",
    "    [r\"(?i).*job opportunities.*|.*careers.*|.*working at SpidoTech.*\",\n",
    "     [\"We are always looking for talented developers, designers, and project managers. Visit our careers page for current job openings.\",\n",
    "      \"SpidoTech offers great career opportunities. Check out our job listings on our website or send us your resume.\",\n",
    "      \"Join our growing team! Visit our career page to explore available roles and submit your application.\"]],\n",
    "\n",
    "    [r\"(?i).*portfolio.*|.*our work.*|.*examples of projects.*\",\n",
    "     [\"You can explore our portfolio on our website to see examples of our past work.\",\n",
    "      \"Visit our portfolio page to see the projects we've worked on. We have experience in a wide range of industries.\",\n",
    "      \"We showcase our previous projects on our website. Check out our portfolio for examples of our successful projects.\"]],\n",
    "\n",
    "    [r\"(?i).*payment.*|.*invoice.*|.*billing.*\",\n",
    "     [\"For payment-related queries, please contact our billing department at billing@spidotech.com.\",\n",
    "      \"You can process payments via bank transfer, credit card, or PayPal. Contact us for further details.\",\n",
    "      \"For any invoice or billing issues, feel free to reach out to our finance team at finance@spidotech.com.\"]],\n",
    "\n",
    "    [r\"(?i).*collaborate.*|.*partnership.*|.*work together.*\",\n",
    "     [\"We are open to collaborations. If you're interested, please reach out to partnerships@spidotech.com to discuss potential opportunities.\",\n",
    "      \"If you're interested in a partnership, please email our partnership team at partnerships@spidotech.com.\",\n",
    "      \"We love collaborating with like-minded businesses. Contact us for partnership opportunities at partnerships@spidotech.com.\"]],\n",
    "\n",
    "    [r\"(?i).*contact.*|.*email.*|.*phone number.*\",\n",
    "     [\"You can reach us at support@spidotech.com or call us at +123-456-7890.\",\n",
    "      \"For inquiries, email us at info@spidotech.com, or give us a call at +123-456-7890.\",\n",
    "      \"Feel free to contact us via email at contact@spidotech.com or call our support team at +123-456-7890.\"]],\n",
    "\n",
    "    [r\"(?i).*bye.*|.*goodbye.*|.*see you later.*\",\n",
    "     [\"Goodbye! Let us know if you need assistance in the future.\",\n",
    "      \"See you later! Don't hesitate to reach out if you need help.\",\n",
    "      \"Alright, take care! Feel free to contact us whenever you have questions.\"]]\n",
    "]\n",
    "\n",
    "sia = SentimentIntensityAnalyzer()"
   ]
  },
  {
   "cell_type": "code",
   "execution_count": 6,
   "metadata": {},
   "outputs": [],
   "source": [
    "chatbot = Chat(questions, reflections)"
   ]
  },
  {
   "cell_type": "code",
   "execution_count": 9,
   "metadata": {},
   "outputs": [
    {
     "name": "stdout",
     "output_type": "stream",
     "text": [
      "Welcome to SpidoTech Software House. How can I assist you today?\n",
      "Type 'exit' to end the chat.\n",
      "\n",
      "Spido: Hello! How can I assist you with our software development services?\n",
      "Spido: We specialize in software development, mobile applications, website creation, cloud computing, and more. Let us know how we can help.\n",
      "Spido: Prices vary based on project size. Please contact our sales team for a detailed pricing breakdown.\n",
      "Spido: You can reach us at support@spidotech.com or call us at +123-456-7890.\n",
      "Spido: Hello! How can I assist you with our software development services?\n",
      "Spido: Hello! How can I assist you with our software development services?\n",
      "Spido: None\n",
      "Spido: For inquiries, email us at info@spidotech.com, or give us a call at +123-456-7890.\n",
      "Spido: Feel free to contact us via email at contact@spidotech.com or call our support team at +123-456-7890.\n",
      "Spido: None\n",
      "Spido: None\n",
      "Spido: None\n",
      "Spido: None\n",
      "Spido: Hello! How can I assist you with our software development services?\n",
      "Spido: None\n",
      "Spido: I’m sorry you’re facing an issue. Could you describe the problem in detail so we can assist you better?\n",
      "Spido: We discuss the timeline with each client based on project scope. Please share more details for a more accurate estimate.\n",
      "Spido: We discuss the timeline with each client based on project scope. Please share more details for a more accurate estimate.\n",
      "Spido: You can explore our portfolio on our website to see examples of our past work.\n",
      "Spido: None\n",
      "Spido: Visit our portfolio page to see the projects we've worked on. We have experience in a wide range of industries.\n",
      "Spido: You can explore our portfolio on our website to see examples of our past work.\n",
      "Spido: See you later! Don't hesitate to reach out if you need help.\n",
      "Spido: None\n",
      "Spido: Thank you for reaching out! Have a nice day!\n"
     ]
    }
   ],
   "source": [
    "def run_chatbot():\n",
    "    print(\"Welcome to SpidoTech Software House. How can I assist you today?\")\n",
    "    print(\"Type 'exit' to end the chat.\\n\")\n",
    "\n",
    "    while True:\n",
    "        user_input = input(\"Ask anything: \")\n",
    "\n",
    "        if user_input.lower() in [\"exit\", \"quit\", \"bye\"]:\n",
    "            print(\"Spido: Thank you for reaching out! Have a nice day!\")\n",
    "            break\n",
    "\n",
    "        sentiment = analyze_sentiment(user_input)\n",
    "        response = chatbot.respond(user_input)\n",
    "        print(f\"Spido: {response}\")\n",
    "\n",
    "if __name__ == \"__main__\":\n",
    "    run_chatbot()"
   ]
  },
  {
   "cell_type": "code",
   "execution_count": 7,
   "metadata": {},
   "outputs": [],
   "source": [
    "def analyze_sentiment(user_input):\n",
    "    sentiment_score = sia.polarity_scores(user_input)\n",
    "    compound_score = sentiment_score['compound']\n",
    "\n",
    "    if compound_score >= 0.05:\n",
    "        return \"positive\"\n",
    "    elif compound_score <= -0.05:\n",
    "        return \"negative\"\n",
    "    else:\n",
    "        return \"neutral\""
   ]
  }
 ],
 "metadata": {
  "kernelspec": {
   "display_name": "base",
   "language": "python",
   "name": "python3"
  },
  "language_info": {
   "codemirror_mode": {
    "name": "ipython",
    "version": 3
   },
   "file_extension": ".py",
   "mimetype": "text/x-python",
   "name": "python",
   "nbconvert_exporter": "python",
   "pygments_lexer": "ipython3",
   "version": "3.12.7"
  }
 },
 "nbformat": 4,
 "nbformat_minor": 2
}
