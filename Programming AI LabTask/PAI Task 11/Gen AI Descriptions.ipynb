{
 "cells": [
  {
   "cell_type": "markdown",
   "id": "ced53386",
   "metadata": {},
   "source": [
    "# **1. LangChain**"
   ]
  },
  {
   "cell_type": "markdown",
   "id": "0c9b251e",
   "metadata": {},
   "source": [
    "### **Definition** : \n",
    "A Python framework for developing applications powered by Large Language Models (LLMs).\n",
    "\n",
    "### **Key Use** :\n",
    "Chains together multiple components like LLMs, memory, tools (e.g., search), and data sources to build complex AI apps (e.g., RAG systems, chatbots).\n",
    "\n",
    "### **Specialty** :\n",
    "Makes it easier to integrate LLMs with external tools (like VectorDBs or APIs)."
   ]
  },
  {
   "cell_type": "markdown",
   "id": "c1918074",
   "metadata": {},
   "source": [
    "# **-------------------------------------**"
   ]
  },
  {
   "cell_type": "markdown",
   "id": "a8d72277",
   "metadata": {},
   "source": [
    "# **2. RAG** ( Retrieval-Augmented Generation )"
   ]
  },
  {
   "cell_type": "markdown",
   "id": "579b024f",
   "metadata": {},
   "source": [
    "### **Definition** : \n",
    "A technique where an LLM is augmented with external data retrieved at runtime (usually from a VectorDB).\n",
    "\n",
    "### **Key Use** : \n",
    "Answering questions or generating content using up-to-date or domain-specific data.\n",
    "\n",
    "### **Example** : \n",
    "A chatbot that looks up documents to answer questions instead of relying only on its training."
   ]
  },
  {
   "cell_type": "markdown",
   "id": "31773928",
   "metadata": {},
   "source": [
    "# **-------------------------------------**"
   ]
  },
  {
   "cell_type": "markdown",
   "id": "de21ecba",
   "metadata": {},
   "source": [
    "# **3. LLMs** ( Large Language Models )"
   ]
  },
  {
   "cell_type": "markdown",
   "id": "aa8a2ed6",
   "metadata": {},
   "source": [
    "### **Definition** : \n",
    "Deep learning models trained on massive text datasets to understand and generate human-like text.\n",
    "\n",
    "### **Examples** : \n",
    "GPT-4, BERT, LLaMA.\n",
    "\n",
    "### **Key Capabilities** : \n",
    "Text generation, summarization, translation, reasoning, coding, etc."
   ]
  },
  {
   "cell_type": "markdown",
   "id": "836f2389",
   "metadata": {},
   "source": [
    "# **-------------------------------------**"
   ]
  },
  {
   "cell_type": "markdown",
   "id": "37906cb0",
   "metadata": {},
   "source": [
    "# **4. FAISS** ( Facebook AI Similarity Search )"
   ]
  },
  {
   "cell_type": "markdown",
   "id": "98cb5434",
   "metadata": {},
   "source": [
    "### **Definition** : \n",
    "A library for efficient similarity search and clustering of dense vectors.\n",
    "\n",
    "### **Use Case** : \n",
    "Used to build Vector Databases by indexing vector embeddings for fast retrieval.\n",
    "\n",
    "### **Key Role** : \n",
    "Often part of the backend for RAG systems or semantic search engines."
   ]
  },
  {
   "cell_type": "markdown",
   "id": "de4cc8cf",
   "metadata": {},
   "source": [
    "# **-------------------------------------**"
   ]
  },
  {
   "cell_type": "markdown",
   "id": "f309ead0",
   "metadata": {},
   "source": [
    "# **5. Vector**"
   ]
  },
  {
   "cell_type": "markdown",
   "id": "28bc73a7",
   "metadata": {},
   "source": [
    "### **Definition** : \n",
    "A numerical representation (embedding) of text, image, or other data, capturing its semantic meaning.\n",
    "\n",
    "### **Example** : \n",
    "\"AI\" → [0.23, 0.48, -0.12, ...] (hundreds of dimensions)\n",
    "\n",
    "### **Use** : \n",
    "Enables similarity comparison using cosine or Euclidean distance."
   ]
  },
  {
   "cell_type": "markdown",
   "id": "26c3e38d",
   "metadata": {},
   "source": [
    "# **-------------------------------------**"
   ]
  },
  {
   "cell_type": "markdown",
   "id": "3d412afd",
   "metadata": {},
   "source": [
    "# **6. VectorDB** ( Vector Database )"
   ]
  },
  {
   "cell_type": "markdown",
   "id": "e9c88bb2",
   "metadata": {},
   "source": [
    "### **Definition** : \n",
    "A database designed to store and search through high-dimensional vectors (embeddings).\n",
    "\n",
    "### **Popular Tools** : \n",
    "Pinecone, Weaviate, Milvus, Chroma.\n",
    "\n",
    "### **Use Case** : \n",
    "Core component in RAG and semantic search."
   ]
  },
  {
   "cell_type": "markdown",
   "id": "f5e68d77",
   "metadata": {},
   "source": [
    "# **-------------------------------------**"
   ]
  },
  {
   "cell_type": "markdown",
   "id": "0964bace",
   "metadata": {},
   "source": [
    "# **7. Generative AI**"
   ]
  },
  {
   "cell_type": "markdown",
   "id": "f65c59f4",
   "metadata": {},
   "source": [
    "### **Definition** : \n",
    "Any AI that can create new content — text, images, music, etc.\n",
    "\n",
    "### **Includes** : \n",
    "LLMs (for text), GANs (for images), diffusion models, etc.\n",
    "\n",
    "### **Examples** : \n",
    "ChatGPT (text), DALL·E (image), Jukebox (music)."
   ]
  },
  {
   "cell_type": "markdown",
   "id": "71a57e09",
   "metadata": {},
   "source": [
    "# **-------------------------------------**"
   ]
  },
  {
   "cell_type": "markdown",
   "id": "da6fdede",
   "metadata": {},
   "source": [
    "# **8. GANs** ( Generative Adversarial Networks )"
   ]
  },
  {
   "cell_type": "markdown",
   "id": "9d717dc6",
   "metadata": {},
   "source": [
    "### **Definition** : \n",
    "A type of neural network used in generative AI, involving two models — a generator and a discriminator.\n",
    "\n",
    "### **Key Use** : \n",
    "Image synthesis, deepfakes, art generation.\n",
    "\n",
    "### **Mechanism** : \n",
    "The generator tries to produce fake data; the discriminator tries to distinguish real from fake — both improve through competition."
   ]
  },
  {
   "cell_type": "markdown",
   "id": "55baab4e",
   "metadata": {},
   "source": [
    "# **-------------------------------------**"
   ]
  }
 ],
 "metadata": {
  "kernelspec": {
   "display_name": "Python 3",
   "language": "python",
   "name": "python3"
  },
  "language_info": {
   "codemirror_mode": {
    "name": "ipython",
    "version": 3
   },
   "file_extension": ".py",
   "mimetype": "text/x-python",
   "name": "python",
   "nbconvert_exporter": "python",
   "pygments_lexer": "ipython3",
   "version": "3.12.10"
  }
 },
 "nbformat": 4,
 "nbformat_minor": 5
}
