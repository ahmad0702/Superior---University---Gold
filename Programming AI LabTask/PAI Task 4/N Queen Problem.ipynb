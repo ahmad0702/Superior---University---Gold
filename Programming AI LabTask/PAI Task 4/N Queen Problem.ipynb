{
 "cells": [
  {
   "cell_type": "markdown",
   "id": "bb65e983",
   "metadata": {},
   "source": [
    "# **State Space Search**\n",
    "## **N-Queens Problem** [ Dymanic ]"
   ]
  },
  {
   "cell_type": "code",
   "execution_count": 1,
   "id": "16647ecb",
   "metadata": {},
   "outputs": [
    {
     "name": "stdout",
     "output_type": "stream",
     "text": [
      "[1, 0, 0, 0, 0]\n",
      "[0, 0, 1, 0, 0]\n",
      "[0, 0, 0, 0, 1]\n",
      "[0, 1, 0, 0, 0]\n",
      "[0, 0, 0, 1, 0]\n"
     ]
    }
   ],
   "source": [
    "n = int(input(\"Enter order of chess:\"))\n",
    "board = [[0 for i in range(n)] for i in range(n)]\n",
    "def check_col(board,row,column):\n",
    "    for i in range(row,-1,-1):\n",
    "        if board[i][column] == 1:\n",
    "            return False\n",
    "    return True\n",
    "def check_daig(board,row,column):\n",
    "    for i,j in zip(range(row,-1,-1),range(column,-1,-1)):\n",
    "        if board[i][j] == 1:\n",
    "            return False\n",
    "    for i,j in zip(range(row,-1,-1),range(column,n)):\n",
    "        if board[i][j] == 1:\n",
    "            return False\n",
    "    return True\n",
    "def nqn(board,row):\n",
    "    if row == n:\n",
    "        return True\n",
    "    for i in range(n):\n",
    "        if check_col(board,row,i) and check_daig(board,row,i):\n",
    "            board[row][i] = 1\n",
    "            if nqn(board,row+1):\n",
    "                return True\n",
    "            board[row][i] = 0\n",
    "    return False\n",
    "nqn(board,0)\n",
    "for row in board:\n",
    "    print(row)"
   ]
  }
 ],
 "metadata": {
  "kernelspec": {
   "display_name": "base",
   "language": "python",
   "name": "python3"
  },
  "language_info": {
   "codemirror_mode": {
    "name": "ipython",
    "version": 3
   },
   "file_extension": ".py",
   "mimetype": "text/x-python",
   "name": "python",
   "nbconvert_exporter": "python",
   "pygments_lexer": "ipython3",
   "version": "3.12.7"
  }
 },
 "nbformat": 4,
 "nbformat_minor": 5
}
